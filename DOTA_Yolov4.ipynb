{
  "nbformat": 4,
  "nbformat_minor": 0,
  "metadata": {
    "colab": {
      "provenance": []
    },
    "kernelspec": {
      "name": "python3",
      "display_name": "Python 3"
    }
  },
  "cells": [
    {
      "cell_type": "code",
      "metadata": {
        "id": "T3N-BLL5zm7k",
        "colab": {
          "base_uri": "https://localhost:8080/"
        },
        "outputId": "f55f8f1f-0546-4995-f89e-1cbdc4d96709"
      },
      "source": [
        "#%cd //content/drive/MyDrive/MyDota/\n",
        "#!git clone https://github.com/postor/DOTA-yolov3\n",
        "#%cd dota-yolo"
      ],
      "execution_count": null,
      "outputs": [
        {
          "output_type": "stream",
          "text": [
            "/content/drive/MyDrive/MyDota\n",
            "Cloning into 'DOTA-yolov3'...\n",
            "remote: Enumerating objects: 42, done.\u001b[K\n",
            "remote: Counting objects: 100% (42/42), done.\u001b[K\n",
            "remote: Compressing objects: 100% (38/38), done.\u001b[K\n",
            "remote: Total 42 (delta 13), reused 19 (delta 0), pack-reused 0\u001b[K\n",
            "Unpacking objects: 100% (42/42), done.\n",
            "[Errno 2] No such file or directory: 'dota-yolo'\n",
            "/content/drive/MyDrive/MyDota\n"
          ],
          "name": "stdout"
        }
      ]
    },
    {
      "cell_type": "code",
      "metadata": {
        "colab": {
          "base_uri": "https://localhost:8080/"
        },
        "id": "soXThWrd36ZO",
        "outputId": "4df093bd-c39f-421f-b9b2-6faa527fb35f"
      },
      "source": [
        "%cd /content/drive/MyDrive/MyDota/"
      ],
      "execution_count": null,
      "outputs": [
        {
          "output_type": "stream",
          "text": [
            "/content/drive/MyDrive/MyDota\n"
          ],
          "name": "stdout"
        }
      ]
    },
    {
      "cell_type": "code",
      "metadata": {
        "colab": {
          "base_uri": "https://localhost:8080/"
        },
        "id": "RVPhn1UN5B9l",
        "outputId": "33f01d30-cd8a-473a-9107-7f23e71f4069"
      },
      "source": [
        "!pip install Shapely"
      ],
      "execution_count": null,
      "outputs": [
        {
          "output_type": "stream",
          "text": [
            "Requirement already satisfied: Shapely in /usr/local/lib/python3.7/dist-packages (1.7.1)\n"
          ],
          "name": "stdout"
        }
      ]
    },
    {
      "cell_type": "code",
      "metadata": {
        "colab": {
          "base_uri": "https://localhost:8080/"
        },
        "id": "v42WTsFr6Uct",
        "outputId": "08463f5b-bf65-4a88-9416-0af923cf166c"
      },
      "source": [
        "!pip install geos"
      ],
      "execution_count": null,
      "outputs": [
        {
          "output_type": "stream",
          "text": [
            "Collecting geos\n",
            "\u001b[?25l  Downloading https://files.pythonhosted.org/packages/49/5b/b8acf74c01187a36aa41b6523deb9baa59c8c6d5112a798dc2bdf9616097/geos-0.2.3-py3-none-any.whl (400kB)\n",
            "\r\u001b[K     |▉                               | 10kB 14.8MB/s eta 0:00:01\r\u001b[K     |█▋                              | 20kB 12.9MB/s eta 0:00:01\r\u001b[K     |██▌                             | 30kB 7.2MB/s eta 0:00:01\r\u001b[K     |███▎                            | 40kB 6.2MB/s eta 0:00:01\r\u001b[K     |████                            | 51kB 4.4MB/s eta 0:00:01\r\u001b[K     |█████                           | 61kB 5.0MB/s eta 0:00:01\r\u001b[K     |█████▊                          | 71kB 4.9MB/s eta 0:00:01\r\u001b[K     |██████▌                         | 81kB 5.4MB/s eta 0:00:01\r\u001b[K     |███████▍                        | 92kB 4.7MB/s eta 0:00:01\r\u001b[K     |████████▏                       | 102kB 5.1MB/s eta 0:00:01\r\u001b[K     |█████████                       | 112kB 5.1MB/s eta 0:00:01\r\u001b[K     |█████████▉                      | 122kB 5.1MB/s eta 0:00:01\r\u001b[K     |██████████▋                     | 133kB 5.1MB/s eta 0:00:01\r\u001b[K     |███████████▌                    | 143kB 5.1MB/s eta 0:00:01\r\u001b[K     |████████████▎                   | 153kB 5.1MB/s eta 0:00:01\r\u001b[K     |█████████████                   | 163kB 5.1MB/s eta 0:00:01\r\u001b[K     |██████████████                  | 174kB 5.1MB/s eta 0:00:01\r\u001b[K     |██████████████▊                 | 184kB 5.1MB/s eta 0:00:01\r\u001b[K     |███████████████▌                | 194kB 5.1MB/s eta 0:00:01\r\u001b[K     |████████████████▍               | 204kB 5.1MB/s eta 0:00:01\r\u001b[K     |█████████████████▏              | 215kB 5.1MB/s eta 0:00:01\r\u001b[K     |██████████████████              | 225kB 5.1MB/s eta 0:00:01\r\u001b[K     |██████████████████▉             | 235kB 5.1MB/s eta 0:00:01\r\u001b[K     |███████████████████▋            | 245kB 5.1MB/s eta 0:00:01\r\u001b[K     |████████████████████▌           | 256kB 5.1MB/s eta 0:00:01\r\u001b[K     |█████████████████████▎          | 266kB 5.1MB/s eta 0:00:01\r\u001b[K     |██████████████████████          | 276kB 5.1MB/s eta 0:00:01\r\u001b[K     |███████████████████████         | 286kB 5.1MB/s eta 0:00:01\r\u001b[K     |███████████████████████▊        | 296kB 5.1MB/s eta 0:00:01\r\u001b[K     |████████████████████████▋       | 307kB 5.1MB/s eta 0:00:01\r\u001b[K     |█████████████████████████▍      | 317kB 5.1MB/s eta 0:00:01\r\u001b[K     |██████████████████████████▏     | 327kB 5.1MB/s eta 0:00:01\r\u001b[K     |███████████████████████████     | 337kB 5.1MB/s eta 0:00:01\r\u001b[K     |███████████████████████████▉    | 348kB 5.1MB/s eta 0:00:01\r\u001b[K     |████████████████████████████▋   | 358kB 5.1MB/s eta 0:00:01\r\u001b[K     |█████████████████████████████▌  | 368kB 5.1MB/s eta 0:00:01\r\u001b[K     |██████████████████████████████▎ | 378kB 5.1MB/s eta 0:00:01\r\u001b[K     |███████████████████████████████ | 389kB 5.1MB/s eta 0:00:01\r\u001b[K     |████████████████████████████████| 399kB 5.1MB/s eta 0:00:01\r\u001b[K     |████████████████████████████████| 409kB 5.1MB/s \n",
            "\u001b[?25hRequirement already satisfied: pillow in /usr/local/lib/python3.7/dist-packages (from geos) (7.0.0)\n",
            "Requirement already satisfied: flask in /usr/local/lib/python3.7/dist-packages (from geos) (1.1.2)\n",
            "Requirement already satisfied: lxml in /usr/local/lib/python3.7/dist-packages (from geos) (4.2.6)\n",
            "Requirement already satisfied: Jinja2>=2.10.1 in /usr/local/lib/python3.7/dist-packages (from flask->geos) (2.11.3)\n",
            "Requirement already satisfied: click>=5.1 in /usr/local/lib/python3.7/dist-packages (from flask->geos) (7.1.2)\n",
            "Requirement already satisfied: itsdangerous>=0.24 in /usr/local/lib/python3.7/dist-packages (from flask->geos) (1.1.0)\n",
            "Requirement already satisfied: Werkzeug>=0.15 in /usr/local/lib/python3.7/dist-packages (from flask->geos) (1.0.1)\n",
            "Requirement already satisfied: MarkupSafe>=0.23 in /usr/local/lib/python3.7/dist-packages (from Jinja2>=2.10.1->flask->geos) (1.1.1)\n",
            "Installing collected packages: geos\n",
            "Successfully installed geos-0.2.3\n"
          ],
          "name": "stdout"
        }
      ]
    },
    {
      "cell_type": "code",
      "metadata": {
        "colab": {
          "base_uri": "https://localhost:8080/"
        },
        "id": "jHuDzs2k6yq9",
        "outputId": "e01a1a07-aad0-4c54-cf91-c98ad28e233c"
      },
      "source": [
        "!pip install opencv-python"
      ],
      "execution_count": null,
      "outputs": [
        {
          "output_type": "stream",
          "text": [
            "Requirement already satisfied: opencv-python in /usr/local/lib/python3.7/dist-packages (4.1.2.30)\n",
            "Requirement already satisfied: numpy>=1.14.5 in /usr/local/lib/python3.7/dist-packages (from opencv-python) (1.19.5)\n"
          ],
          "name": "stdout"
        }
      ]
    },
    {
      "cell_type": "code",
      "metadata": {
        "colab": {
          "base_uri": "https://localhost:8080/"
        },
        "id": "ViHV9dst0vGX",
        "outputId": "7f3a9e37-7a63-4a70-f12b-40c4b5876733"
      },
      "source": [
        "#!git clone https://github.com/pjreddie/darknet.git\n",
        "%cd /content/drive/MyDrive/MyDota/\n"
      ],
      "execution_count": null,
      "outputs": [
        {
          "output_type": "stream",
          "text": [
            "/content/drive/MyDrive/MyDota\n"
          ],
          "name": "stdout"
        }
      ]
    },
    {
      "cell_type": "code",
      "metadata": {
        "colab": {
          "base_uri": "https://localhost:8080/"
        },
        "id": "1zBFbMV58XWU",
        "outputId": "df82f30a-253d-442f-84c6-42b52017946a"
      },
      "source": [
        "%cd darknet/"
      ],
      "execution_count": null,
      "outputs": [
        {
          "output_type": "stream",
          "text": [
            "[Errno 20] Not a directory: 'darknet/'\n",
            "/content/drive/MyDrive/MyDota/darknet\n"
          ],
          "name": "stdout"
        }
      ]
    },
    {
      "cell_type": "code",
      "metadata": {
        "colab": {
          "base_uri": "https://localhost:8080/"
        },
        "id": "Y7732l6L7h18",
        "outputId": "7509ffff-4156-43bd-95cd-4059b373eb20"
      },
      "source": [
        "!make"
      ],
      "execution_count": null,
      "outputs": [
        {
          "output_type": "stream",
          "text": [
            "chmod +x *.sh\n"
          ],
          "name": "stdout"
        }
      ]
    },
    {
      "cell_type": "code",
      "metadata": {
        "id": "IyeFNYg57SPE"
      },
      "source": [
        "!python3 data_transform/split.py"
      ],
      "execution_count": null,
      "outputs": []
    },
    {
      "cell_type": "markdown",
      "metadata": {
        "id": "_jZajmwlArYT"
      },
      "source": [
        "https://medium.com/@postor/train-dota-dataset-with-yolov3-a38e34f7f479"
      ]
    },
    {
      "cell_type": "code",
      "metadata": {
        "id": "iVnLgVkY_tGk"
      },
      "source": [
        "!mkdir dataset/trainsplit/labels\n",
        "!mkdir dataset/valsplit/labels\n",
        "!python3 data_transform/YOLO_Transform.py"
      ],
      "execution_count": null,
      "outputs": []
    },
    {
      "cell_type": "code",
      "metadata": {
        "id": "e9V9rGSx_2Gq"
      },
      "source": [
        "# check labels\n",
        "# cd dataset/trainsplit/labels\n",
        "# awk -F\" \" '{col[$1]++} END {for (i in col) print i, col[i]}' *.txt"
      ],
      "execution_count": null,
      "outputs": []
    },
    {
      "cell_type": "code",
      "metadata": {
        "id": "ET-7KwWnAAMK"
      },
      "source": [
        "!ls -1d /content/drive/MyDrive/MyDota/DOTA-yolov3/dataset/trainsplit/images/* > cfg/train.txt\n",
        "!ls -1d /content/drive/MyDrive/MyDota/DOTA-yolov3/dataset/valsplit/images/* > cfg/val.txt"
      ],
      "execution_count": null,
      "outputs": []
    },
    {
      "cell_type": "code",
      "metadata": {
        "id": "-6CVwBEsAR7i"
      },
      "source": [
        "!cd cfg\n",
        "!mkdir backup"
      ],
      "execution_count": null,
      "outputs": []
    },
    {
      "cell_type": "code",
      "metadata": {
        "id": "AKZL3kvnAUp6"
      },
      "source": [
        "# yolo-tiny\n",
        "!darknet detector train dota.data dota-yolov3-tiny.cfg"
      ],
      "execution_count": null,
      "outputs": []
    },
    {
      "cell_type": "code",
      "metadata": {
        "id": "xIuSvrEVAdVi"
      },
      "source": [
        "# or yolov3-416\n",
        "!darknet detector train dota.data dota-yolov3-416.cfg"
      ],
      "execution_count": null,
      "outputs": []
    },
    {
      "cell_type": "code",
      "metadata": {
        "id": "SjsvpqEdAenh"
      },
      "source": [
        "# resume from unexpected stop\n",
        "darknet detector train dota.data dota-yolov3-tiny.cfg backup/dota-yolov3-tiny.backup"
      ],
      "execution_count": null,
      "outputs": []
    },
    {
      "cell_type": "code",
      "metadata": {
        "colab": {
          "base_uri": "https://localhost:8080/"
        },
        "id": "ez6g6PbOCY6L",
        "outputId": "f9081779-5bbe-4a96-9a0c-92a9c68253ce"
      },
      "source": [
        "!ls"
      ],
      "execution_count": null,
      "outputs": [
        {
          "output_type": "stream",
          "text": [
            "darknet  DOTA-yolov3\n"
          ],
          "name": "stdout"
        }
      ]
    },
    {
      "cell_type": "code",
      "metadata": {
        "id": "s8cYhv25Ek47"
      },
      "source": [
        "!cd /content/drive/MyDrive/MyDota/DOTA-yolov3/"
      ],
      "execution_count": null,
      "outputs": []
    },
    {
      "cell_type": "code",
      "metadata": {
        "id": "zvh-3s3aFVmZ",
        "colab": {
          "base_uri": "https://localhost:8080/"
        },
        "outputId": "c0220f91-d31d-44f5-aee0-33ecd600906c"
      },
      "source": [
        "%cd /content/drive/MyDrive/MyDota/darknet"
      ],
      "execution_count": null,
      "outputs": [
        {
          "output_type": "stream",
          "text": [
            "/content/drive/MyDrive/MyDota/darknet\n"
          ],
          "name": "stdout"
        }
      ]
    },
    {
      "cell_type": "code",
      "metadata": {
        "colab": {
          "base_uri": "https://localhost:8080/"
        },
        "id": "kgTYDQzY7n31",
        "outputId": "d6e14a22-9c23-4d7d-9564-433c2b121186"
      },
      "source": [
        "!pip3 install --upgrade opencv-python"
      ],
      "execution_count": null,
      "outputs": [
        {
          "output_type": "stream",
          "text": [
            "Collecting opencv-python\n",
            "\u001b[?25l  Downloading https://files.pythonhosted.org/packages/0f/13/192104516c4a3d92dc6b5e106ffcfbf0fe35f3c4faa49650205ff652af72/opencv_python-4.5.1.48-cp37-cp37m-manylinux2014_x86_64.whl (50.4MB)\n",
            "\u001b[K     |████████████████████████████████| 50.4MB 89kB/s \n",
            "\u001b[?25hRequirement already satisfied, skipping upgrade: numpy>=1.14.5 in /usr/local/lib/python3.7/dist-packages (from opencv-python) (1.19.5)\n",
            "\u001b[31mERROR: albumentations 0.1.12 has requirement imgaug<0.2.7,>=0.2.5, but you'll have imgaug 0.2.9 which is incompatible.\u001b[0m\n",
            "Installing collected packages: opencv-python\n",
            "  Found existing installation: opencv-python 4.1.2.30\n",
            "    Uninstalling opencv-python-4.1.2.30:\n",
            "      Successfully uninstalled opencv-python-4.1.2.30\n",
            "Successfully installed opencv-python-4.5.1.48\n"
          ],
          "name": "stdout"
        }
      ]
    },
    {
      "cell_type": "code",
      "metadata": {
        "colab": {
          "base_uri": "https://localhost:8080/"
        },
        "id": "QTHsLHolAjMr",
        "outputId": "d7237656-a384-4f37-a18f-ab8fba07640a"
      },
      "source": [
        "# tiny\n",
        "#!python test.py --image test.png --config cfg/dota-yolov3-tiny.cfg --weights cfg/dota-yolov3-tiny.weights --classes cfg/dota.names\n",
        "\n",
        "# or 416\n",
        "!python /content/drive/MyDrive/MyDota/darknet/test.py --image /content/drive/MyDrive/MyDota/darknet/test.png --config /content/drive/MyDrive/MyDota/darknet/cfg/dota-yolov3-416.cfg --weights /content/drive/MyDrive/MyDota/darknet/dota-yolov3-416_final.weights --classes /content/drive/MyDrive/MyDota/darknet/cfg/dota.names"
      ],
      "execution_count": null,
      "outputs": [
        {
          "output_type": "stream",
          "text": [
            "cost 2.403907 seconds\n"
          ],
          "name": "stdout"
        }
      ]
    }
  ]
}